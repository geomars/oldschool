{
 "cells": [
  {
   "cell_type": "markdown",
   "metadata": {},
   "source": [
    "<center>\n",
    "<img src=\"../../img/ods_stickers.jpg\" />\n",
    "    \n",
    "## [mlcourse.ai](https://mlcourse.ai) – Open Machine Learning Course \n",
    "Author: Vitaly Radchenko (@vradchenko), [Yury Kashnitskiy](https://yorko.github.io) (@yorko). Edited by Sergey Volkov (@sevaspb). This material is subject to the terms and conditions of the [Creative Commons CC BY-NC-SA 4.0](https://creativecommons.org/licenses/by-nc-sa/4.0/) license. Free use is permitted for any non-commercial purpose."
   ]
  },
  {
   "cell_type": "markdown",
   "metadata": {},
   "source": [
    "# <center> Assignment #5. Fall 2018\n",
    "## <center> RandomForest and Logistic Regression in credit scoring and movie reviews classification"
   ]
  },
  {
   "cell_type": "markdown",
   "metadata": {},
   "source": [
    "####  Here we will develop and tune models for credit scoring and movies reviews sentiment prediction. Fill the code where needed (\"#Your code is here\") and answer the questions in the [web form](https://docs.google.com/forms/d/1MS3kW_bjZQAkwwlAjX9G8khj1owq1qc5NQtjzJUvKVo).\n",
    "\n",
    "For the warm-up, solve the first task.\n",
    "\n",
    "<font color = 'red'> **Task 1:** </font> There are 7 jurors in the courtroom. Each of them individually can correctly determine whether the defendant is guilty or not with 80% probability. How likely is the jury will make a correct verdict jointly if the decision is made by majority voting?\n",
    "\n",
    "*For discussions, please stick to [ODS Slack](https://opendatascience.slack.com/), channel #mlcourse_ai, pinned thread __#a5_q1__*\n",
    "\n",
    "<font color = 'red'> **Answer options:** </font>\n",
    "- [ ] 20.97%\n",
    "- [ ] 80.00%\n",
    "- [ ] 83.70%\n",
    "- [X] 96.66% \n"
   ]
  },
  {
   "cell_type": "code",
   "execution_count": 23,
   "metadata": {},
   "outputs": [],
   "source": [
    "import numpy as np\n",
    "import pandas as pd\n",
    "import matplotlib.pyplot as plt\n",
    "%matplotlib inline\n",
    "\n",
    "import seaborn as sns\n",
    "sns.set()\n",
    "\n",
    "# Ignore warnings\n",
    "import warnings\n",
    "warnings.filterwarnings('ignore')"
   ]
  },
  {
   "cell_type": "markdown",
   "metadata": {},
   "source": [
    "**Note:** \n",
    " * The juror will make a correct verdict jointly if the decision is made by majority voting. \n",
    " * Mathematician always right than engineer, so let's pick $P(X>3)$ or $1-P(X<=3)$\n",
    " * Majority (precisely) should be = (50%+1%) \\* 7 = 0.51\\* 7 = 3.57 \n",
    " * n = 7, p = 80% = 0.8"
   ]
  },
  {
   "cell_type": "markdown",
   "metadata": {},
   "source": [
    "**A. Using binomial function**"
   ]
  },
  {
   "cell_type": "code",
   "execution_count": 24,
   "metadata": {},
   "outputs": [],
   "source": [
    "def binomial_cdf(x,n,p):\n",
    "    cdf = 0\n",
    "    b = 0\n",
    "    for k in range(x+1):\n",
    "        if k > 0:\n",
    "            b += + np.log(n-k+1) - np.log(k) \n",
    "        log_pmf_k = b + k * np.log(p) + (n-k) * np.log(1-p)\n",
    "        cdf += np.exp(log_pmf_k)\n",
    "    return cdf"
   ]
  },
  {
   "cell_type": "markdown",
   "metadata": {},
   "source": [
    "Aku juga ngertinya pake binomial. Di soal dikatakan keputusan diambil berdasarkan suara mayoritas, alias lebih dari 3 (karena ada 7 orang). Berarti kita cari P(X>3) atau 1-P(X<=3)"
   ]
  },
  {
   "cell_type": "markdown",
   "metadata": {},
   "source": [
    "$P(X>3)$"
   ]
  },
  {
   "cell_type": "code",
   "execution_count": 25,
   "metadata": {},
   "outputs": [
    {
     "data": {
      "text/plain": [
       "0.03334399999999997"
      ]
     },
     "execution_count": 25,
     "metadata": {},
     "output_type": "execute_result"
    }
   ],
   "source": [
    "binomial_cdf(3, 7, 0.8)"
   ]
  },
  {
   "cell_type": "markdown",
   "metadata": {},
   "source": [
    "$1-P(X<=3)$"
   ]
  },
  {
   "cell_type": "code",
   "execution_count": 26,
   "metadata": {},
   "outputs": [
    {
     "data": {
      "text/plain": [
       "0.9666560000000001"
      ]
     },
     "execution_count": 26,
     "metadata": {},
     "output_type": "execute_result"
    }
   ],
   "source": [
    "1 - binomial_cdf(3, 7, 0.8)"
   ]
  },
  {
   "cell_type": "code",
   "execution_count": 27,
   "metadata": {},
   "outputs": [
    {
     "data": {
      "text/plain": [
       "96.67"
      ]
     },
     "execution_count": 27,
     "metadata": {},
     "output_type": "execute_result"
    }
   ],
   "source": [
    "# percentage\n",
    "round((1 - binomial_cdf(3, 7, 0.8))*100, 2)"
   ]
  },
  {
   "cell_type": "markdown",
   "metadata": {},
   "source": [
    "**B. Using scipy.stats.binom**"
   ]
  },
  {
   "cell_type": "markdown",
   "metadata": {},
   "source": [
    "$1-P(X<=3)$"
   ]
  },
  {
   "cell_type": "code",
   "execution_count": 28,
   "metadata": {},
   "outputs": [
    {
     "data": {
      "text/plain": [
       "0.9666560000000001"
      ]
     },
     "execution_count": 28,
     "metadata": {},
     "output_type": "execute_result"
    }
   ],
   "source": [
    "from scipy.stats import binom\n",
    "                            \n",
    "1-binom.cdf(3,7,0.8)"
   ]
  },
  {
   "cell_type": "markdown",
   "metadata": {},
   "source": [
    "Now let's move directly to machine learning.\n",
    "\n",
    "#### The [dataset](https://github.com/Yorko/mlcourse.ai/tree/master/data/credit_scoring_sample.csv) looks like this:\n",
    "\n",
    "##### Target variable\n",
    "* SeriousDlqin2yrs - the person had long delays in payments during 2 years; binary variable\n",
    "\n",
    "##### Features\n",
    "* age - Age of the loan borrower (number of full years); type - integer\n",
    "* NumberOfTime30-59DaysPastDueNotWorse - the number of times a person has had a delay in repaying other loans more than 30-59 days (but not more) during last two years; type - integer\n",
    "* DebtRatio - monthly payments (loans, alimony, etc.) divided by aggregate monthly income, percentage; float type\n",
    "* MonthlyIncome - monthly income in dollars; float type\n",
    "* NumberOfTimes90DaysLate - the number of times a person has had a delay in repaying other loans for more than 90 days; type - integer\n",
    "* NumberOfTime60-89DaysPastDueNotWorse - the number of times a person has had a delay in repaying other loans more than 60-89 days (but not more) in the last two years; type - integer\n",
    "* NumberOfDependents - number of people in the family of the borrower; type - integer"
   ]
  },
  {
   "cell_type": "markdown",
   "metadata": {},
   "source": [
    "Let us implement a function that will replace the NaN values by the median in each column of the table."
   ]
  },
  {
   "cell_type": "code",
   "execution_count": 29,
   "metadata": {},
   "outputs": [],
   "source": [
    "def impute_nan_with_median(table):\n",
    "    for col in table.columns:\n",
    "        table[col]= table[col].fillna(table[col].median())\n",
    "    return table   "
   ]
  },
  {
   "cell_type": "markdown",
   "metadata": {},
   "source": [
    "Reading the data:"
   ]
  },
  {
   "cell_type": "code",
   "execution_count": 30,
   "metadata": {},
   "outputs": [
    {
     "data": {
      "text/html": [
       "<div>\n",
       "<style scoped>\n",
       "    .dataframe tbody tr th:only-of-type {\n",
       "        vertical-align: middle;\n",
       "    }\n",
       "\n",
       "    .dataframe tbody tr th {\n",
       "        vertical-align: top;\n",
       "    }\n",
       "\n",
       "    .dataframe thead th {\n",
       "        text-align: right;\n",
       "    }\n",
       "</style>\n",
       "<table border=\"1\" class=\"dataframe\">\n",
       "  <thead>\n",
       "    <tr style=\"text-align: right;\">\n",
       "      <th></th>\n",
       "      <th>SeriousDlqin2yrs</th>\n",
       "      <th>age</th>\n",
       "      <th>NumberOfTime30-59DaysPastDueNotWorse</th>\n",
       "      <th>DebtRatio</th>\n",
       "      <th>NumberOfTimes90DaysLate</th>\n",
       "      <th>NumberOfTime60-89DaysPastDueNotWorse</th>\n",
       "      <th>MonthlyIncome</th>\n",
       "      <th>NumberOfDependents</th>\n",
       "    </tr>\n",
       "  </thead>\n",
       "  <tbody>\n",
       "    <tr>\n",
       "      <th>0</th>\n",
       "      <td>0</td>\n",
       "      <td>64</td>\n",
       "      <td>0</td>\n",
       "      <td>0.249908</td>\n",
       "      <td>0</td>\n",
       "      <td>0</td>\n",
       "      <td>8158.0</td>\n",
       "      <td>0.0</td>\n",
       "    </tr>\n",
       "    <tr>\n",
       "      <th>1</th>\n",
       "      <td>0</td>\n",
       "      <td>58</td>\n",
       "      <td>0</td>\n",
       "      <td>3870.000000</td>\n",
       "      <td>0</td>\n",
       "      <td>0</td>\n",
       "      <td>NaN</td>\n",
       "      <td>0.0</td>\n",
       "    </tr>\n",
       "    <tr>\n",
       "      <th>2</th>\n",
       "      <td>0</td>\n",
       "      <td>41</td>\n",
       "      <td>0</td>\n",
       "      <td>0.456127</td>\n",
       "      <td>0</td>\n",
       "      <td>0</td>\n",
       "      <td>6666.0</td>\n",
       "      <td>0.0</td>\n",
       "    </tr>\n",
       "    <tr>\n",
       "      <th>3</th>\n",
       "      <td>0</td>\n",
       "      <td>43</td>\n",
       "      <td>0</td>\n",
       "      <td>0.000190</td>\n",
       "      <td>0</td>\n",
       "      <td>0</td>\n",
       "      <td>10500.0</td>\n",
       "      <td>2.0</td>\n",
       "    </tr>\n",
       "    <tr>\n",
       "      <th>4</th>\n",
       "      <td>1</td>\n",
       "      <td>49</td>\n",
       "      <td>0</td>\n",
       "      <td>0.271820</td>\n",
       "      <td>0</td>\n",
       "      <td>0</td>\n",
       "      <td>400.0</td>\n",
       "      <td>0.0</td>\n",
       "    </tr>\n",
       "  </tbody>\n",
       "</table>\n",
       "</div>"
      ],
      "text/plain": [
       "   SeriousDlqin2yrs  age  NumberOfTime30-59DaysPastDueNotWorse    DebtRatio  \\\n",
       "0                 0   64                                     0     0.249908   \n",
       "1                 0   58                                     0  3870.000000   \n",
       "2                 0   41                                     0     0.456127   \n",
       "3                 0   43                                     0     0.000190   \n",
       "4                 1   49                                     0     0.271820   \n",
       "\n",
       "   NumberOfTimes90DaysLate  NumberOfTime60-89DaysPastDueNotWorse  \\\n",
       "0                        0                                     0   \n",
       "1                        0                                     0   \n",
       "2                        0                                     0   \n",
       "3                        0                                     0   \n",
       "4                        0                                     0   \n",
       "\n",
       "   MonthlyIncome  NumberOfDependents  \n",
       "0         8158.0                 0.0  \n",
       "1            NaN                 0.0  \n",
       "2         6666.0                 0.0  \n",
       "3        10500.0                 2.0  \n",
       "4          400.0                 0.0  "
      ]
     },
     "execution_count": 30,
     "metadata": {},
     "output_type": "execute_result"
    }
   ],
   "source": [
    "data = pd.read_csv('../../data/credit_scoring_sample.csv', sep=\";\")\n",
    "data.head()"
   ]
  },
  {
   "cell_type": "markdown",
   "metadata": {},
   "source": [
    "View data types of the features:"
   ]
  },
  {
   "cell_type": "code",
   "execution_count": 31,
   "metadata": {},
   "outputs": [
    {
     "data": {
      "text/plain": [
       "SeriousDlqin2yrs                          int64\n",
       "age                                       int64\n",
       "NumberOfTime30-59DaysPastDueNotWorse      int64\n",
       "DebtRatio                               float64\n",
       "NumberOfTimes90DaysLate                   int64\n",
       "NumberOfTime60-89DaysPastDueNotWorse      int64\n",
       "MonthlyIncome                           float64\n",
       "NumberOfDependents                      float64\n",
       "dtype: object"
      ]
     },
     "execution_count": 31,
     "metadata": {},
     "output_type": "execute_result"
    }
   ],
   "source": [
    "data.dtypes"
   ]
  },
  {
   "cell_type": "markdown",
   "metadata": {},
   "source": [
    "Look at the distribution of classes in target:"
   ]
  },
  {
   "cell_type": "code",
   "execution_count": 32,
   "metadata": {},
   "outputs": [
    {
     "name": "stdout",
     "output_type": "stream",
     "text": [
      "Distribution of target:\n"
     ]
    },
    {
     "data": {
      "text/plain": [
       "0    0.777511\n",
       "1    0.222489\n",
       "Name: SeriousDlqin2yrs, dtype: float64"
      ]
     },
     "execution_count": 32,
     "metadata": {},
     "output_type": "execute_result"
    },
    {
     "data": {
      "image/png": "[encoded data removed]",
      "text/plain": [
       "<Figure size 432x288 with 1 Axes>"
      ]
     },
     "metadata": {},
     "output_type": "display_data"
    }
   ],
   "source": [
    "ax = data['SeriousDlqin2yrs'].hist(orientation='horizontal', color='red')\n",
    "ax.set_xlabel(\"number_of_observations\")\n",
    "ax.set_ylabel(\"unique_value\")\n",
    "ax.set_title(\"Target distribution\")\n",
    "\n",
    "print('Distribution of target:')\n",
    "data['SeriousDlqin2yrs'].value_counts() / data.shape[0]"
   ]
  },
  {
   "cell_type": "markdown",
   "metadata": {},
   "source": [
    "Select all the features and drop the target:"
   ]
  },
  {
   "cell_type": "code",
   "execution_count": 33,
   "metadata": {},
   "outputs": [
    {
     "data": {
      "text/plain": [
       "['age',\n",
       " 'NumberOfTime30-59DaysPastDueNotWorse',\n",
       " 'DebtRatio',\n",
       " 'NumberOfTimes90DaysLate',\n",
       " 'NumberOfTime60-89DaysPastDueNotWorse',\n",
       " 'MonthlyIncome',\n",
       " 'NumberOfDependents']"
      ]
     },
     "execution_count": 33,
     "metadata": {},
     "output_type": "execute_result"
    }
   ],
   "source": [
    "independent_columns_names = data.columns.values\n",
    "independent_columns_names = [x for x in data if x != 'SeriousDlqin2yrs']\n",
    "independent_columns_names"
   ]
  },
  {
   "cell_type": "markdown",
   "metadata": {},
   "source": [
    "We apply a function that replaces all values of NaN by the median value of the corresponding column."
   ]
  },
  {
   "cell_type": "code",
   "execution_count": 34,
   "metadata": {},
   "outputs": [],
   "source": [
    "table = impute_nan_with_median(data)"
   ]
  },
  {
   "cell_type": "markdown",
   "metadata": {},
   "source": [
    "Split the target and features - now we get a training sample."
   ]
  },
  {
   "cell_type": "code",
   "execution_count": 35,
   "metadata": {},
   "outputs": [],
   "source": [
    "X = table[independent_columns_names]\n",
    "y = table['SeriousDlqin2yrs']"
   ]
  },
  {
   "cell_type": "markdown",
   "metadata": {},
   "source": [
    "# Bootstrap\n",
    "\n",
    "**<font color = 'red'> Task 2. </font>** Make an interval estimate based on the bootstrap of the average income (MonthlyIncome)  of customers who had overdue loan payments, and of those who paid in time, make 90% confidence interval. Find the difference between the lower limit of the derived interval for those who paid in time and the upper limit for those who are overdue.\n",
    "So, you are asked to build 90% intervals for the income of \"good\" customers $ [good\\_income\\_lower, good\\_income\\_upper] $ and for \"bad\" - $ [bad\\_income\\_lower, bad\\_income\\_upper] $ and find the difference `good_income_lower - bad_income_upper`.\n",
    "\n",
    "Use the example from the [article](https://medium.com/open-machine-learning-course/open-machine-learning-course-topic-5-ensembles-of-algorithms-and-random-forest-8e05246cbba7). Set `np.random.seed (17)`. Round the answer to the integer value.\n",
    "\n",
    "*For discussions, please stick to [ODS Slack](https://opendatascience.slack.com/), channel #mlcourse_ai, pinned thread __#a5_q2__*"
   ]
  },
  {
   "cell_type": "markdown",
   "metadata": {},
   "source": [
    "**<font color='red'>Answer options:</font>**\n",
    "- [ ] 344\n",
    "- [ ] 424\n",
    "- [ ] 584\n",
    "- [X] 654"
   ]
  },
  {
   "cell_type": "code",
   "execution_count": 36,
   "metadata": {},
   "outputs": [],
   "source": [
    "# Your code is here\n",
    "np.random.seed(17)\n",
    "\n",
    "# fungsi ambil sample bootstrap\n",
    "def get_bootstrap_samples(data, n_samples):\n",
    "    \"\"\"Generate bootstrap samples using the bootstrap method.\"\"\"\n",
    "    samples = []\n",
    "    # diulang sebanyak n_samples\n",
    "    for _ in range(n_samples):\n",
    "        # misalkan data berukuran k. ambil sampel sebanyak k juga,\n",
    "        # tapi dengan pengembalian (replace = True). Artinya nilai yang sama \n",
    "        # bisa terpilih lebih dari satu kali.\n",
    "        s = data.sample(len(data), replace = True)\n",
    "        # simpan sampel berukuran k yang terpilih di matriks samples\n",
    "        samples.append(s)\n",
    "    # hasil berupa matriks n_samples x k\n",
    "    return samples\n",
    "\n",
    "# cari batas bawah dan batas atas berdasarkan alpha\n",
    "def stat_intervals(stat, alpha):\n",
    "    \"\"\"Produce an interval estimate.\"\"\"\n",
    "    boundaries = np.percentile(stat, [100 * alpha / 2., 100 * (1 - alpha / 2.)])\n",
    "    return boundaries"
   ]
  },
  {
   "cell_type": "code",
   "execution_count": 37,
   "metadata": {},
   "outputs": [],
   "source": [
    "# pisahkan data berdasarkan nilai variabel target\n",
    "# lalu ambil kolom MonthlyIncomenya\n",
    "good = data[data.SeriousDlqin2yrs == 0].MonthlyIncome\n",
    "bad = data[data.SeriousDlqin2yrs == 1].MonthlyIncome"
   ]
  },
  {
   "cell_type": "code",
   "execution_count": 38,
   "metadata": {},
   "outputs": [],
   "source": [
    "# ambil bootstrap sample untuk kategori good\n",
    "good_samples = get_bootstrap_samples(good, 1000)\n",
    "\n",
    "# hitung rata-rata tiap sampel\n",
    "good_means = [np.mean(i) for i in good_samples]"
   ]
  },
  {
   "cell_type": "code",
   "execution_count": 39,
   "metadata": {},
   "outputs": [],
   "source": [
    "# cari batas atas dan bawah dengan selang kepercayaan 90%\n",
    "good_lower, good_upper = stat_intervals(good_means,0.1)"
   ]
  },
  {
   "cell_type": "code",
   "execution_count": 40,
   "metadata": {},
   "outputs": [],
   "source": [
    "# ambil bootstrap sample untuk kategori bad\n",
    "bad_samples = get_bootstrap_samples(bad, 1000)\n",
    "bad_means = [np.mean(i) for i in bad_samples]"
   ]
  },
  {
   "cell_type": "code",
   "execution_count": 41,
   "metadata": {},
   "outputs": [],
   "source": [
    "# cari batas atas dan bawah dengan selang kepercayaan 90%\n",
    "bad_lower, bad_upper = stat_intervals(bad_means,0.1)"
   ]
  },
  {
   "cell_type": "code",
   "execution_count": 42,
   "metadata": {},
   "outputs": [
    {
     "data": {
      "text/plain": [
       "651.9967484053386"
      ]
     },
     "execution_count": 42,
     "metadata": {},
     "output_type": "execute_result"
    }
   ],
   "source": [
    "good_lower - bad_upper"
   ]
  },
  {
   "cell_type": "markdown",
   "metadata": {},
   "source": [
    "# Decision tree, hyperparameter tuning"
   ]
  },
  {
   "cell_type": "markdown",
   "metadata": {},
   "source": [
    "One of the main performance metrics of a model is the area under the ROC curve. The ROC-AUC values lay between 0 and 1. The closer the value of ROC-AUC to 1, the better the classification is done.\n",
    "\n",
    "Find the values of `DecisionTreeClassifier` hyperparameters using the` GridSearchCV`, which maximize the area under the ROC curve."
   ]
  },
  {
   "cell_type": "code",
   "execution_count": 43,
   "metadata": {},
   "outputs": [],
   "source": [
    "from sklearn.tree import DecisionTreeClassifier\n",
    "from sklearn.model_selection import GridSearchCV, StratifiedKFold"
   ]
  },
  {
   "cell_type": "markdown",
   "metadata": {},
   "source": [
    "Use the `DecisionTreeClassifier` class to create a decision tree. Due to the imbalance of the classes in the target, we add the balancing parameter. We also use the parameter `random_state = 17` for the reproducibility of the results."
   ]
  },
  {
   "cell_type": "code",
   "execution_count": 44,
   "metadata": {},
   "outputs": [],
   "source": [
    "dt = DecisionTreeClassifier(random_state=17, class_weight='balanced')"
   ]
  },
  {
   "cell_type": "markdown",
   "metadata": {},
   "source": [
    "We will look through such values of hyperparameters:"
   ]
  },
  {
   "cell_type": "code",
   "execution_count": 45,
   "metadata": {},
   "outputs": [],
   "source": [
    "max_depth_values = [5, 6, 7, 8, 9]\n",
    "max_features_values = [4, 5, 6, 7]\n",
    "tree_params = {'max_depth': max_depth_values,\n",
    "               'max_features': max_features_values}"
   ]
  },
  {
   "cell_type": "markdown",
   "metadata": {},
   "source": [
    "Fix cross-validation parameters: stratified, 5 partitions with shuffle, \n",
    "`random_state`."
   ]
  },
  {
   "cell_type": "code",
   "execution_count": 46,
   "metadata": {},
   "outputs": [],
   "source": [
    "skf = StratifiedKFold(n_splits=5, shuffle=True, random_state=17)"
   ]
  },
  {
   "cell_type": "markdown",
   "metadata": {},
   "source": [
    "**<font color='red'>Task 3.</font>**\n",
    "Run GridSearch with the ROC AUC metric using the hyperparameters from the `tree_params` dictionary. What is the maximum ROC AUC value (round up to 2 decimals)? We call cross-validation stable if the standard deviation of the metric on the cross-validation is less than 1%. Was cross-validation stable under optimal combinations of hyperparameters (i.e., providing a maximum of the mean ROC AUC value for cross-validation)?\n",
    "\n",
    "*For discussions, please stick to [ODS Slack](https://opendatascience.slack.com/), channel #mlcourse_ai, pinned thread __#a5_q3__*"
   ]
  },
  {
   "cell_type": "markdown",
   "metadata": {},
   "source": [
    "**<font color='red'>Answer options:</font>**\n",
    "- [ ] 0.82, no\n",
    "- [ ] 0.84, no\n",
    "- [X] 0.82, yes\n",
    "- [ ] 0.84, yes"
   ]
  },
  {
   "cell_type": "code",
   "execution_count": 47,
   "metadata": {},
   "outputs": [
    {
     "data": {
      "text/plain": [
       "GridSearchCV(cv=StratifiedKFold(n_splits=5, random_state=17, shuffle=True),\n",
       "       error_score='raise',\n",
       "       estimator=DecisionTreeClassifier(class_weight=None, criterion='gini', max_depth=None,\n",
       "            max_features=None, max_leaf_nodes=None,\n",
       "            min_impurity_decrease=0.0, min_impurity_split=None,\n",
       "            min_samples_leaf=1, min_samples_split=2,\n",
       "            min_weight_fraction_leaf=0.0, presort=False, random_state=17,\n",
       "            splitter='best'),\n",
       "       fit_params=None, iid=True, n_jobs=1,\n",
       "       param_grid={'max_depth': [5, 6, 7, 8, 9], 'max_features': [4, 5, 6, 7]},\n",
       "       pre_dispatch='2*n_jobs', refit=True, return_train_score='warn',\n",
       "       scoring='roc_auc', verbose=0)"
      ]
     },
     "execution_count": 47,
     "metadata": {},
     "output_type": "execute_result"
    }
   ],
   "source": [
    "# Your code is here\n",
    "# kaya di assignment 3, tapi cvnya skf dan scoringnya pilih 'roc_auc'\n",
    "tree_grid = GridSearchCV(DecisionTreeClassifier(random_state=17), \n",
    "                         param_grid=tree_params, cv=skf, scoring='roc_auc') \n",
    "\n",
    "tree_grid.fit(X, y)"
   ]
  },
  {
   "cell_type": "markdown",
   "metadata": {},
   "source": [
    "Change `grid_scores_` to `cv_results_` to avoid sklearn deprecation warning"
   ]
  },
  {
   "cell_type": "code",
   "execution_count": 48,
   "metadata": {},
   "outputs": [
    {
     "data": {
      "text/plain": [
       "{'mean_fit_time': array([0.07419147, 0.07831683, 0.09784946, 0.1027019 , 0.0843369 ,\n",
       "        0.09908724, 0.10925436, 0.12421274, 0.08388605, 0.11143956,\n",
       "        0.12784672, 0.14270563, 0.10544472, 0.1219873 , 0.13136959,\n",
       "        0.15238051, 0.11198134, 0.1307332 , 0.15312386, 0.16961684]),\n",
       " 'std_fit_time': array([0.0053282 , 0.00663645, 0.01149903, 0.00665885, 0.00538159,\n",
       "        0.00574454, 0.00617952, 0.00467448, 0.00473042, 0.0056835 ,\n",
       "        0.00578929, 0.00509538, 0.00502406, 0.00725101, 0.00491446,\n",
       "        0.00610968, 0.00976889, 0.00525646, 0.00746399, 0.00450823]),\n",
       " 'mean_score_time': array([0.00197048, 0.00663867, 0.00534921, 0.00124817, 0.0057642 ,\n",
       "        0.00337491, 0.00437698, 0.00148411, 0.0062674 , 0.00625057,\n",
       "        0.00472617, 0.00554605, 0.00561643, 0.00501695, 0.00806675,\n",
       "        0.00513167, 0.00484719, 0.00933213, 0.00313563, 0.00624876]),\n",
       " 'std_score_time': array([0.0024752 , 0.00815402, 0.0057193 , 0.00249634, 0.00574779,\n",
       "        0.00674982, 0.0061228 , 0.0018277 , 0.00767597, 0.00765536,\n",
       "        0.00259594, 0.00145338, 0.00544194, 0.00675742, 0.00723794,\n",
       "        0.00652891, 0.00633835, 0.00586477, 0.00627127, 0.00765314]),\n",
       " 'param_max_depth': masked_array(data=[5, 5, 5, 5, 6, 6, 6, 6, 7, 7, 7, 7, 8, 8, 8, 8, 9, 9,\n",
       "                    9, 9],\n",
       "              mask=[False, False, False, False, False, False, False, False,\n",
       "                    False, False, False, False, False, False, False, False,\n",
       "                    False, False, False, False],\n",
       "        fill_value='?',\n",
       "             dtype=object),\n",
       " 'param_max_features': masked_array(data=[4, 5, 6, 7, 4, 5, 6, 7, 4, 5, 6, 7, 4, 5, 6, 7, 4, 5,\n",
       "                    6, 7],\n",
       "              mask=[False, False, False, False, False, False, False, False,\n",
       "                    False, False, False, False, False, False, False, False,\n",
       "                    False, False, False, False],\n",
       "        fill_value='?',\n",
       "             dtype=object),\n",
       " 'params': [{'max_depth': 5, 'max_features': 4},\n",
       "  {'max_depth': 5, 'max_features': 5},\n",
       "  {'max_depth': 5, 'max_features': 6},\n",
       "  {'max_depth': 5, 'max_features': 7},\n",
       "  {'max_depth': 6, 'max_features': 4},\n",
       "  {'max_depth': 6, 'max_features': 5},\n",
       "  {'max_depth': 6, 'max_features': 6},\n",
       "  {'max_depth': 6, 'max_features': 7},\n",
       "  {'max_depth': 7, 'max_features': 4},\n",
       "  {'max_depth': 7, 'max_features': 5},\n",
       "  {'max_depth': 7, 'max_features': 6},\n",
       "  {'max_depth': 7, 'max_features': 7},\n",
       "  {'max_depth': 8, 'max_features': 4},\n",
       "  {'max_depth': 8, 'max_features': 5},\n",
       "  {'max_depth': 8, 'max_features': 6},\n",
       "  {'max_depth': 8, 'max_features': 7},\n",
       "  {'max_depth': 9, 'max_features': 4},\n",
       "  {'max_depth': 9, 'max_features': 5},\n",
       "  {'max_depth': 9, 'max_features': 6},\n",
       "  {'max_depth': 9, 'max_features': 7}],\n",
       " 'split0_test_score': array([0.8127203 , 0.80438049, 0.81290244, 0.8181898 , 0.81714268,\n",
       "        0.81644607, 0.81581173, 0.82069701, 0.81856304, 0.81259646,\n",
       "        0.82057786, 0.82104436, 0.81610993, 0.81801318, 0.81555711,\n",
       "        0.82294469, 0.81189472, 0.81248737, 0.81714933, 0.81446905]),\n",
       " 'split1_test_score': array([0.81302704, 0.81090101, 0.81549223, 0.81847877, 0.81684747,\n",
       "        0.81881629, 0.81780498, 0.82041258, 0.81486993, 0.81907901,\n",
       "        0.81954798, 0.81979925, 0.81490861, 0.81597074, 0.81861154,\n",
       "        0.81576773, 0.81403686, 0.80887212, 0.80761417, 0.8104446 ]),\n",
       " 'split2_test_score': array([0.80956023, 0.80899083, 0.81340373, 0.81583393, 0.8154811 ,\n",
       "        0.81749383, 0.81674087, 0.82076385, 0.81842105, 0.81439024,\n",
       "        0.82348567, 0.81785115, 0.80891004, 0.82067576, 0.8217716 ,\n",
       "        0.81354   , 0.80881897, 0.81173903, 0.80737634, 0.80691289]),\n",
       " 'split3_test_score': array([0.8124899 , 0.80509149, 0.81006881, 0.81314496, 0.82038339,\n",
       "        0.82172697, 0.82132399, 0.82488395, 0.82143133, 0.82132136,\n",
       "        0.82313234, 0.82330075, 0.81772424, 0.82175879, 0.81656833,\n",
       "        0.8198478 , 0.81736785, 0.81233512, 0.81574863, 0.81090449]),\n",
       " 'split4_test_score': array([0.80887954, 0.80517463, 0.81039744, 0.8148381 , 0.81031509,\n",
       "        0.80834762, 0.81173287, 0.82127527, 0.81864591, 0.81430849,\n",
       "        0.81956526, 0.81913573, 0.81108101, 0.81670289, 0.8189361 ,\n",
       "        0.81907764, 0.8129589 , 0.80892118, 0.81010027, 0.81027466]),\n",
       " 'mean_test_score': array([0.8113355 , 0.80690766, 0.81245302, 0.81609726, 0.81603401,\n",
       "        0.8165662 , 0.81668287, 0.82160647, 0.81838618, 0.81633901,\n",
       "        0.82126175, 0.82022627, 0.8137469 , 0.81862419, 0.81828882,\n",
       "        0.81823573, 0.81301543, 0.81087099, 0.8115979 , 0.81060131]),\n",
       " 'std_test_score': array([0.00174898, 0.00256811, 0.00201257, 0.00202096, 0.00328075,\n",
       "        0.0044746 , 0.00310035, 0.00166214, 0.00208503, 0.00329421,\n",
       "        0.00171622, 0.00185114, 0.00326352, 0.00224229, 0.00214827,\n",
       "        0.0032749 , 0.00278762, 0.00163139, 0.0040984 , 0.00239952]),\n",
       " 'rank_test_score': array([17, 20, 15, 11, 12,  9,  8,  1,  5, 10,  2,  3, 13,  4,  6,  7, 14,\n",
       "        18, 16, 19]),\n",
       " 'split0_train_score': array([0.8138937 , 0.81107344, 0.81696026, 0.81844398, 0.82237038,\n",
       "        0.82208433, 0.82346593, 0.8274268 , 0.83126339, 0.83051363,\n",
       "        0.83448213, 0.83357527, 0.8344245 , 0.84056374, 0.8408905 ,\n",
       "        0.84159345, 0.84623918, 0.84555232, 0.84932099, 0.84912147]),\n",
       " 'split1_train_score': array([0.81383085, 0.80978204, 0.81595337, 0.81837998, 0.8212857 ,\n",
       "        0.82374944, 0.82255319, 0.82803687, 0.82807144, 0.82962183,\n",
       "        0.83366101, 0.83478737, 0.83279021, 0.8391574 , 0.84165495,\n",
       "        0.84326952, 0.84818337, 0.84896438, 0.84966144, 0.85117357]),\n",
       " 'split2_train_score': array([0.81504893, 0.80939818, 0.81709333, 0.81943516, 0.82158054,\n",
       "        0.82267693, 0.8231173 , 0.82776861, 0.83121267, 0.83149663,\n",
       "        0.83546012, 0.83398857, 0.83742281, 0.84141576, 0.84169154,\n",
       "        0.84079319, 0.84577334, 0.84945969, 0.85118845, 0.85046265]),\n",
       " 'split3_train_score': array([0.81820125, 0.81424959, 0.81912937, 0.81949529, 0.82436583,\n",
       "        0.82867383, 0.82730412, 0.8275163 , 0.83115147, 0.83525484,\n",
       "        0.83564683, 0.83346155, 0.83886605, 0.84084738, 0.84177706,\n",
       "        0.84136414, 0.84509845, 0.84913911, 0.84932154, 0.84980838]),\n",
       " 'split4_train_score': array([0.81522757, 0.8091006 , 0.81724491, 0.81954745, 0.82390104,\n",
       "        0.82457379, 0.82423244, 0.82762323, 0.83338014, 0.83172976,\n",
       "        0.83624996, 0.83428773, 0.83614215, 0.84241009, 0.84306279,\n",
       "        0.84238215, 0.84872167, 0.85013609, 0.85031597, 0.85089474]),\n",
       " 'mean_train_score': array([0.81524046, 0.81072077, 0.81727625, 0.81906037, 0.8227007 ,\n",
       "        0.82435166, 0.8241346 , 0.82767436, 0.83101582, 0.83172334,\n",
       "        0.83510001, 0.8340201 , 0.83592914, 0.84087888, 0.84181537,\n",
       "        0.84188049, 0.8468032 , 0.84865032, 0.84996168, 0.85029216]),\n",
       " 'std_train_score': array([0.0015877 , 0.00188851, 0.00103134, 0.00053099, 0.00123123,\n",
       "        0.00232546, 0.00167561, 0.0002141 , 0.00169575, 0.00191847,\n",
       "        0.0009169 , 0.00048398, 0.00214563, 0.0010674 , 0.00070057,\n",
       "        0.00086166, 0.00140501, 0.00159986, 0.00071287, 0.0007448 ])}"
      ]
     },
     "execution_count": 48,
     "metadata": {},
     "output_type": "execute_result"
    }
   ],
   "source": [
    "# menampilkan skor\n",
    "scores = tree_grid.cv_results_\n",
    "scores"
   ]
  },
  {
   "cell_type": "code",
   "execution_count": 49,
   "metadata": {},
   "outputs": [
    {
     "data": {
      "text/plain": [
       "0.82"
      ]
     },
     "execution_count": 49,
     "metadata": {},
     "output_type": "execute_result"
    }
   ],
   "source": [
    "round(tree_grid.best_score_, 2)"
   ]
  },
  {
   "cell_type": "code",
   "execution_count": 50,
   "metadata": {},
   "outputs": [
    {
     "data": {
      "text/plain": [
       "0.0016621369088538546"
      ]
     },
     "execution_count": 50,
     "metadata": {},
     "output_type": "execute_result"
    }
   ],
   "source": [
    "#std test score for best cv result\n",
    "std = tree_grid.cv_results_['std_test_score'][tree_grid.best_index_]\n",
    "std"
   ]
  },
  {
   "cell_type": "markdown",
   "metadata": {},
   "source": [
    "karena std <1%, bisa dibilang cross-validation stabil. Tapi di grup ada yang bilang harus cari standardized std yaitu std/mean. Ini saya juga masih kurang paham. Coba kita cari juga"
   ]
  },
  {
   "cell_type": "code",
   "execution_count": 51,
   "metadata": {},
   "outputs": [
    {
     "data": {
      "text/plain": [
       "0.002023032898495513"
      ]
     },
     "execution_count": 51,
     "metadata": {},
     "output_type": "execute_result"
    }
   ],
   "source": [
    "# standardized std (?)\n",
    "std/tree_grid.best_score_"
   ]
  },
  {
   "cell_type": "markdown",
   "metadata": {},
   "source": [
    "untungnya tetap <1%. Nanti di kasus lain kalau hasilnya beda ya bingung :))"
   ]
  },
  {
   "cell_type": "markdown",
   "metadata": {},
   "source": [
    "# Simple RandomForest implementation"
   ]
  },
  {
   "cell_type": "markdown",
   "metadata": {},
   "source": [
    "**<font color='red'>Task 4.</font>**\n",
    "Implement your own random forest using `DecisionTreeClassifier` with the best parameters from the previous task. There will be 10 trees, the predicted probabilities of which you need to average.\n",
    "\n",
    "Brief specification:\n",
    " - Use the base code below\n",
    " - In the `fit` method in the loop (`i` from 0 to `n_estimators-1`), fix the seed equal to (`random_state + i`). The idea is that at each iteration there's a new value of random seed to add more \"randomness\", but at hte same time results are reproducible\n",
    " - After fixing the seed, select `max_features` features **without replacement**, save the list of selected feature ids in `self.feat_ids_by_tree`\n",
    " - Also make a bootstrap sample (i.e. **sampling with replacement**) of training instances. For that, resort to `np.choice` and its argument `replace`\n",
    " - Train a decision tree with specified (in a constructor) arguments `max_depth`, `max_features` and `random_state` (do not specify `class_weight`) on a corresponding subset of training data. \n",
    " - The `fit` method returns the current instance of the class `RandomForestClassifierCustom`, that is `self`\n",
    " - In the `predict_proba` method, we need to loop through all the trees. For each prediction, obviously, we need to take only those features which we used for training the corresponding tree. The method returns predicted probabilities (`predict_proba`), averaged for all trees\n",
    "\n",
    "Perform cross-validation. What is the average ROC AUC for cross-validation? Select the closest value.\n",
    "\n",
    "*For discussions, please stick to [ODS Slack](https://opendatascience.slack.com/), channel #mlcourse_ai, pinned thread __#a5_q4__*\n",
    "\n",
    "**<font color='red'>Answer options:</font>**\n",
    "- [X] 0.823\n",
    "- [] 0.833\n",
    "- [] 0.843\n",
    "- [] 0.853"
   ]
  },
  {
   "cell_type": "markdown",
   "metadata": {},
   "source": [
    "Referensi:\n",
    " * https://datascience.stackexchange.com/questions/16800/why-max-features-n-features-does-not-make-the-random-forest-independent-of-num\n",
    " * https://scikit-learn.org/stable/developers/contributing.html#rolling-your-own-estimator"
   ]
  },
  {
   "cell_type": "markdown",
   "metadata": {},
   "source": [
    "fit methodnya begini kah?? Terus ga ngerti nyari skor ROC AUCnya"
   ]
  },
  {
   "cell_type": "code",
   "execution_count": 52,
   "metadata": {},
   "outputs": [],
   "source": [
    "from sklearn.base import BaseEstimator\n",
    "from sklearn.model_selection import cross_val_score\n",
    "\n",
    "class RandomForestClassifierCustom(BaseEstimator):\n",
    "    def __init__(self, n_estimators=10, max_depth=10, max_features=10, \n",
    "                 random_state=17):\n",
    "        self.n_estimators = n_estimators\n",
    "        self.max_depth = max_depth\n",
    "        self.max_features = max_features\n",
    "        self.random_state = random_state\n",
    "        \n",
    "        self.trees = []\n",
    "        self.feat_ids_by_tree = []\n",
    "        \n",
    "    def fit(self, X, y):\n",
    "                \n",
    "        # number of selected feature for decision tree\n",
    "        m = int(round(np.sqrt(self.max_features)))\n",
    "        \n",
    "        for i in range(self.n_estimators):\n",
    "            # fix the seed\n",
    "            np.random.seed(self.random_state + i)\n",
    "            # select feature ids\n",
    "            indices = np.random.choice(self.max_features, m, replace=False)\n",
    "            self.feat_ids_by_tree.append(indices)            \n",
    "            # make a bootstrap sample\n",
    "            bs_sample_ids = np.random.choice(X.shape[0], X.shape[0], replace = True)\n",
    "            # train decision tree\n",
    "            dt = DecisionTreeClassifier(max_depth = self.max_depth, \n",
    "                                        max_features = self.max_features,\n",
    "                                        random_state = self.random_state)\n",
    "            self.trees.append(dt.fit(X.loc[bs_sample_ids,:],y.loc[bs_sample_ids]))\n",
    "        return self\n",
    "    \n",
    "    def predict_proba(self, X):\n",
    "        \n",
    "        # Your code is here\n",
    "        pass"
   ]
  },
  {
   "cell_type": "code",
   "execution_count": 53,
   "metadata": {},
   "outputs": [],
   "source": [
    "# Your code is here\n",
    "rfc=RandomForestClassifierCustom(max_features=7)"
   ]
  },
  {
   "cell_type": "code",
   "execution_count": 54,
   "metadata": {
    "scrolled": true
   },
   "outputs": [
    {
     "data": {
      "text/plain": [
       "RandomForestClassifierCustom(max_depth=10, max_features=7, n_estimators=10,\n",
       "               random_state=17)"
      ]
     },
     "execution_count": 54,
     "metadata": {},
     "output_type": "execute_result"
    }
   ],
   "source": [
    "rfc.fit(X,y)"
   ]
  },
  {
   "cell_type": "code",
   "execution_count": 55,
   "metadata": {
    "scrolled": true
   },
   "outputs": [
    {
     "data": {
      "text/plain": [
       "0.8479306748330115"
      ]
     },
     "execution_count": 55,
     "metadata": {},
     "output_type": "execute_result"
    }
   ],
   "source": [
    "np.mean([rfc.trees[i].score(X,y) for i in range(10)])"
   ]
  },
  {
   "cell_type": "markdown",
   "metadata": {},
   "source": [
    "**<font color='red'>Task 5.</font>**\n",
    "Let us compare our own implementation of a random forest with `sklearn` version of it. To do this, use `RandomForestClassifier (class_weight='balanced', random_state=17)`, specify all the same values for `max_depth` and` max_features` as before. What average value of ROC AUC on cross-validation we finally got? Select the closest value.\n",
    "\n",
    "*For discussions, please stick to [ODS Slack](https://opendatascience.slack.com/), channel #mlcourse_ai, pinned thread __#a5_q5__*\n",
    "\n",
    "**<font color='red'>Answer options:</font>**\n",
    "- [X] 0.823 ???\n",
    "- [] 0.833\n",
    "- [] 0.843\n",
    "- [] 0.853"
   ]
  },
  {
   "cell_type": "code",
   "execution_count": 56,
   "metadata": {},
   "outputs": [],
   "source": [
    "from sklearn.ensemble import RandomForestClassifier\n",
    "from sklearn.model_selection import cross_val_score # import ulang biar nggak perlu run yg di atas"
   ]
  },
  {
   "cell_type": "markdown",
   "metadata": {},
   "source": [
    "Catatan: kalau `max_depth=10, max_features=10` dimasukkan jadinya malah error, pusinggg!! Ini scoring='accuracy' bukan 'roc_auc'"
   ]
  },
  {
   "cell_type": "code",
   "execution_count": 57,
   "metadata": {},
   "outputs": [
    {
     "name": "stdout",
     "output_type": "stream",
     "text": [
      "[0.81839361 0.8164873  0.82179316 0.81802042 0.8216822 ]\n"
     ]
    }
   ],
   "source": [
    "# Your code is here\n",
    "rf_clf = RandomForestClassifier(n_estimators=10, class_weight='balanced', random_state=17)\n",
    "rf_scores = cross_val_score(rf_clf, X, y, \\\n",
    "                            cv=StratifiedKFold(n_splits=5, shuffle=True, random_state=17), \\\n",
    "                            scoring='accuracy')\n",
    "\n",
    "# rf_scores\n",
    "print(rf_scores)"
   ]
  },
  {
   "cell_type": "markdown",
   "metadata": {},
   "source": [
    "Kalau pakai `mean()`"
   ]
  },
  {
   "cell_type": "code",
   "execution_count": 58,
   "metadata": {},
   "outputs": [
    {
     "name": "stdout",
     "output_type": "stream",
     "text": [
      "0.819275337893564\n"
     ]
    }
   ],
   "source": [
    "print(rf_scores.mean())"
   ]
  },
  {
   "cell_type": "markdown",
   "metadata": {},
   "source": [
    "Kalau yg dicari max-nya"
   ]
  },
  {
   "cell_type": "code",
   "execution_count": 59,
   "metadata": {},
   "outputs": [
    {
     "data": {
      "text/plain": [
       "0.822"
      ]
     },
     "execution_count": 59,
     "metadata": {},
     "output_type": "execute_result"
    }
   ],
   "source": [
    "round(max(rf_scores[i] for i in range(len(rf_scores))), 3)"
   ]
  },
  {
   "cell_type": "code",
   "execution_count": 60,
   "metadata": {},
   "outputs": [
    {
     "data": {
      "text/plain": [
       "RandomForestClassifier(bootstrap=True, class_weight='balanced',\n",
       "            criterion='gini', max_depth=None, max_features='auto',\n",
       "            max_leaf_nodes=None, min_impurity_decrease=0.0,\n",
       "            min_impurity_split=None, min_samples_leaf=1,\n",
       "            min_samples_split=2, min_weight_fraction_leaf=0.0,\n",
       "            n_estimators=10, n_jobs=1, oob_score=False, random_state=17,\n",
       "            verbose=0, warm_start=False)"
      ]
     },
     "execution_count": 60,
     "metadata": {},
     "output_type": "execute_result"
    }
   ],
   "source": [
    "rf_clf.fit(X,y)"
   ]
  },
  {
   "cell_type": "markdown",
   "metadata": {},
   "source": [
    "karena features di data hanya ada 7, max_features tidak bisa lebih dari 7. Coba pilih max_features=7"
   ]
  },
  {
   "cell_type": "code",
   "execution_count": 61,
   "metadata": {},
   "outputs": [
    {
     "name": "stdout",
     "output_type": "stream",
     "text": [
      "[0.82772708 0.82892003 0.82504407 0.82695783 0.82433722]\n"
     ]
    }
   ],
   "source": [
    "rf_clf = RandomForestClassifier(n_estimators=10, class_weight='balanced', random_state=17, \n",
    "                               max_depth=10, max_features=7)\n",
    "rf_scores = cross_val_score(rf_clf, X, y, \\\n",
    "                            cv=StratifiedKFold(n_splits=5, shuffle=True, random_state=17), \\\n",
    "                            scoring='roc_auc')\n",
    "\n",
    "# rf_scores\n",
    "print(rf_scores)"
   ]
  },
  {
   "cell_type": "code",
   "execution_count": 62,
   "metadata": {},
   "outputs": [
    {
     "data": {
      "text/plain": [
       "0.8265972461621939"
      ]
     },
     "execution_count": 62,
     "metadata": {},
     "output_type": "execute_result"
    }
   ],
   "source": [
    "rf_scores.mean()"
   ]
  },
  {
   "cell_type": "markdown",
   "metadata": {},
   "source": [
    "# `sklearn` RandomForest, hyperparameter tuning"
   ]
  },
  {
   "cell_type": "markdown",
   "metadata": {},
   "source": [
    "**<font color='red'>Task 6.</font>** \n",
    "In the third task, we found the optimal hyperparameters for one tree. However it could be that these parameters are not optimal for an ensemble. Let's check this assumption with `GridSearchCV` `(RandomForestClassifier (class_weight='balanced', random_state = 17)` ). Now we extend the value of `max_depth` up to 15, because the trees need to be deeper in the forest (you should be aware of it from the [article](https://medium.com/open-machine-learning-course/open-machine-learning-course-topic-5-ensembles-of-algorithms-and-random-forest-8e05246cbba7)). What are the best values of hyperparameters now?\n",
    "\n",
    "*For discussions, please stick to [ODS Slack](https://opendatascience.slack.com/), channel #mlcourse_ai, pinned thread __#a5_q6__*\n",
    "\n",
    "**<font color='red'>Answer options:</font>**\n",
    "- [x] `max_depth=8, max_features=4`\n",
    "- [ ] `max_depth=9, max_features=5`\n",
    "- [ ] `max_depth=10, max_features=6`\n",
    "- [ ] `max_depth=11, max_features=7`"
   ]
  },
  {
   "cell_type": "code",
   "execution_count": 63,
   "metadata": {},
   "outputs": [],
   "source": [
    "max_depth_values = range(5, 15)\n",
    "max_features_values = [4, 5, 6, 7]\n",
    "forest_params = {'max_depth': max_depth_values,\n",
    "                'max_features': max_features_values}"
   ]
  },
  {
   "cell_type": "code",
   "execution_count": 64,
   "metadata": {},
   "outputs": [
    {
     "data": {
      "text/plain": [
       "GridSearchCV(cv=StratifiedKFold(n_splits=5, random_state=17, shuffle=True),\n",
       "       error_score='raise',\n",
       "       estimator=RandomForestClassifier(bootstrap=True, class_weight='balanced',\n",
       "            criterion='gini', max_depth=None, max_features='auto',\n",
       "            max_leaf_nodes=None, min_impurity_decrease=0.0,\n",
       "            min_impurity_split=None, min_samples_leaf=1,\n",
       "            min_samples_split=2, min_weight_fraction_leaf=0.0,\n",
       "            n_estimators=10, n_jobs=1, oob_score=False, random_state=17,\n",
       "            verbose=0, warm_start=False),\n",
       "       fit_params=None, iid=True, n_jobs=1,\n",
       "       param_grid={'max_depth': range(5, 15), 'max_features': [4, 5, 6, 7]},\n",
       "       pre_dispatch='2*n_jobs', refit=True, return_train_score='warn',\n",
       "       scoring='roc_auc', verbose=0)"
      ]
     },
     "execution_count": 64,
     "metadata": {},
     "output_type": "execute_result"
    }
   ],
   "source": [
    "forest_grid = GridSearchCV(RandomForestClassifier(class_weight='balanced', random_state = 17), param_grid=forest_params, cv=skf, scoring='roc_auc')                           \n",
    "\n",
    "forest_grid.fit(X, y)"
   ]
  },
  {
   "cell_type": "code",
   "execution_count": 65,
   "metadata": {},
   "outputs": [
    {
     "name": "stdout",
     "output_type": "stream",
     "text": [
      "{'max_depth': 8, 'max_features': 4}\n"
     ]
    }
   ],
   "source": [
    "print(forest_grid.best_params_)"
   ]
  },
  {
   "cell_type": "markdown",
   "metadata": {},
   "source": [
    "# Logistic regression, hyperparameter tuning"
   ]
  },
  {
   "cell_type": "markdown",
   "metadata": {},
   "source": [
    "**<font color='red'>Task 7.</font>**  Now let's compare our results with logistic regression (we indicate `class_weight='balanced'` and `random_state = 17`). Do a full search by the parameter `C` from a wide range of values `np.logspace(-8, 8, 17)`.\n",
    "Now we will build a pipeline - first apply scaling, then train the model.\n",
    "\n",
    "Learn about the pipelines and make cross-validation. What is the best average ROC AUC? Select the closest value.\n",
    "\n",
    "*For discussions, please stick to [ODS Slack](https://opendatascience.slack.com/), channel #mlcourse_ai, pinned thread __#a5_q7__*\n",
    "\n",
    "**<font color='red'>Answer options:</font>**\n",
    "- [ ] 0.778\n",
    "- [X] 0.788\n",
    "- [ ] 0.798\n",
    "- [ ] 0.808"
   ]
  },
  {
   "cell_type": "code",
   "execution_count": 14,
   "metadata": {},
   "outputs": [],
   "source": [
    "from sklearn.pipeline import Pipeline\n",
    "from sklearn.preprocessing import StandardScaler\n",
    "from sklearn.linear_model import LogisticRegression\n",
    "\n",
    "scaler = StandardScaler()\n",
    "logit = LogisticRegression(random_state=17, class_weight='balanced')\n",
    "\n",
    "logit_pipe = Pipeline([('scaler', scaler), ('logit', logit)])\n",
    "logit_pipe_params = {'logit__C': np.logspace(-8, 8, 17)}"
   ]
  },
  {
   "cell_type": "code",
   "execution_count": 44,
   "metadata": {},
   "outputs": [
    {
     "data": {
      "text/plain": [
       "GridSearchCV(cv=StratifiedKFold(n_splits=5, random_state=17, shuffle=True),\n",
       "       error_score='raise',\n",
       "       estimator=Pipeline(memory=None,\n",
       "     steps=[('scaler', StandardScaler(copy=True, with_mean=True, with_std=True)), ('logit', LogisticRegression(C=1.0, class_weight='balanced', dual=False,\n",
       "          fit_intercept=True, intercept_scaling=1, max_iter=100,\n",
       "          multi_class='ovr', n_jobs=1, penalty='l2', random_state=17,\n",
       "          solver='liblinear', tol=0.0001, verbose=0, warm_start=False))]),\n",
       "       fit_params=None, iid=True, n_jobs=1,\n",
       "       param_grid={'logit__C': array([1.e-08, 1.e-07, 1.e-06, 1.e-05, 1.e-04, 1.e-03, 1.e-02, 1.e-01,\n",
       "       1.e+00, 1.e+01, 1.e+02, 1.e+03, 1.e+04, 1.e+05, 1.e+06, 1.e+07,\n",
       "       1.e+08])},\n",
       "       pre_dispatch='2*n_jobs', refit=True, return_train_score='warn',\n",
       "       scoring='roc_auc', verbose=0)"
      ]
     },
     "execution_count": 44,
     "metadata": {},
     "output_type": "execute_result"
    }
   ],
   "source": [
    "# Your code is here\n",
    "pipe = logit_pipe \n",
    "\n",
    "log_grid = GridSearchCV(pipe, param_grid=logit_pipe_params, cv=skf, scoring='roc_auc')   \n",
    "                      \n",
    "log_grid.fit(X, y)"
   ]
  },
  {
   "cell_type": "code",
   "execution_count": 45,
   "metadata": {},
   "outputs": [
    {
     "name": "stdout",
     "output_type": "stream",
     "text": [
      "{'mean_fit_time': array([0.13468194, 0.07231369, 0.08067098, 0.09962254, 0.10495315,\n",
      "       0.15020723, 0.19309998, 0.20068188, 0.20327454, 0.19914689,\n",
      "       0.21369572, 0.20244188, 0.19599166, 0.2092402 , 0.19912004,\n",
      "       0.21123853, 0.21535711]), 'std_fit_time': array([0.10107304, 0.00883615, 0.01122091, 0.01180928, 0.00487484,\n",
      "       0.00628926, 0.01194657, 0.00841025, 0.0109276 , 0.00768022,\n",
      "       0.01258294, 0.00866365, 0.01030815, 0.01273957, 0.00902309,\n",
      "       0.01685575, 0.01568226]), 'mean_score_time': array([0.02350564, 0.00747504, 0.00434794, 0.00731735, 0.00624814,\n",
      "       0.0001996 , 0.00432177, 0.0098814 , 0.00234165, 0.00413814,\n",
      "       0.00773344, 0.00959234, 0.00312405, 0.0038084 , 0.00543056,\n",
      "       0.00435891, 0.00653944]), 'std_score_time': array([0.0396646 , 0.00723884, 0.00636603, 0.00707052, 0.00765238,\n",
      "       0.00039921, 0.00254582, 0.00707336, 0.00314204, 0.00607385,\n",
      "       0.00457438, 0.00784249, 0.00624809, 0.00347862, 0.00277292,\n",
      "       0.00283344, 0.00521528]), 'param_logit__C': masked_array(data=[1e-08, 1e-07, 1e-06, 1e-05, 0.0001, 0.001, 0.01, 0.1,\n",
      "                   1.0, 10.0, 100.0, 1000.0, 10000.0, 100000.0, 1000000.0,\n",
      "                   10000000.0, 100000000.0],\n",
      "             mask=[False, False, False, False, False, False, False, False,\n",
      "                   False, False, False, False, False, False, False, False,\n",
      "                   False],\n",
      "       fill_value='?',\n",
      "            dtype=object), 'params': [{'logit__C': 1e-08}, {'logit__C': 1e-07}, {'logit__C': 1e-06}, {'logit__C': 1e-05}, {'logit__C': 0.0001}, {'logit__C': 0.001}, {'logit__C': 0.01}, {'logit__C': 0.1}, {'logit__C': 1.0}, {'logit__C': 10.0}, {'logit__C': 100.0}, {'logit__C': 1000.0}, {'logit__C': 10000.0}, {'logit__C': 100000.0}, {'logit__C': 1000000.0}, {'logit__C': 10000000.0}, {'logit__C': 100000000.0}], 'split0_test_score': array([0.68534394, 0.68520302, 0.68388236, 0.67551462, 0.66823715,\n",
      "       0.71307652, 0.778202  , 0.79311224, 0.79460584, 0.79475173,\n",
      "       0.79476575, 0.79476731, 0.79476738, 0.79476738, 0.79476738,\n",
      "       0.79476738, 0.79476738]), 'split1_test_score': array([0.68882798, 0.68869589, 0.68745975, 0.67960318, 0.67231155,\n",
      "       0.71428111, 0.77368526, 0.78766287, 0.78906376, 0.78917884,\n",
      "       0.78918959, 0.78918966, 0.78919002, 0.78919002, 0.78919002,\n",
      "       0.78919002, 0.78919002]), 'split2_test_score': array([0.67503163, 0.67489333, 0.67358278, 0.66529744, 0.65792554,\n",
      "       0.70220161, 0.76593282, 0.78104105, 0.78248186, 0.78260521,\n",
      "       0.78261688, 0.78261859, 0.78261852, 0.78261859, 0.78261859,\n",
      "       0.78261859, 0.78261859]), 'split3_test_score': array([0.69103469, 0.69089881, 0.68964021, 0.68150727, 0.67444002,\n",
      "       0.72002799, 0.77857778, 0.78990995, 0.79057925, 0.79062323,\n",
      "       0.79063035, 0.79063128, 0.79063142, 0.79063142, 0.79063142,\n",
      "       0.79063142, 0.79063142]), 'split4_test_score': array([0.66911752, 0.6689773 , 0.66763699, 0.65930304, 0.65220618,\n",
      "       0.69765621, 0.76336122, 0.77996499, 0.78188441, 0.78208599,\n",
      "       0.78210208, 0.78210414, 0.78210422, 0.78210429, 0.78210429,\n",
      "       0.78210429, 0.78210429]), 'mean_test_score': array([0.68187146, 0.68173398, 0.68044073, 0.67224542, 0.6650244 ,\n",
      "       0.70944896, 0.77195213, 0.78633855, 0.78772336, 0.78784934,\n",
      "       0.78786127, 0.78786253, 0.78786265, 0.78786268, 0.78786268,\n",
      "       0.78786268, 0.78786268]), 'std_test_score': array([0.00841245, 0.00841437, 0.00844622, 0.00856002, 0.00856461,\n",
      "       0.00824622, 0.00626092, 0.00508093, 0.00487628, 0.00485438,\n",
      "       0.00485343, 0.00485312, 0.00485318, 0.00485315, 0.00485315,\n",
      "       0.00485315, 0.00485315]), 'rank_test_score': array([13, 14, 15, 16, 17, 12, 11, 10,  9,  8,  7,  6,  5,  1,  1,  1,  1]), 'split0_train_score': array([0.68369666, 0.68355546, 0.68222237, 0.67378882, 0.6663176 ,\n",
      "       0.71167177, 0.77511006, 0.79090765, 0.79270712, 0.79288247,\n",
      "       0.79289966, 0.79290102, 0.79290115, 0.79290117, 0.79290117,\n",
      "       0.79290117, 0.79290117]), 'split1_train_score': array([0.68059849, 0.68046281, 0.67917059, 0.67089969, 0.6639072 ,\n",
      "       0.71010367, 0.77148366, 0.78481616, 0.78593933, 0.786036  ,\n",
      "       0.78604634, 0.78604703, 0.78604715, 0.78604717, 0.78604717,\n",
      "       0.78604717, 0.78604717]), 'split2_train_score': array([0.68260028, 0.68246579, 0.68117753, 0.67305204, 0.66589014,\n",
      "       0.709538  , 0.7721605 , 0.78676444, 0.78816036, 0.78828114,\n",
      "       0.78829402, 0.78829503, 0.78829521, 0.78829522, 0.78829522,\n",
      "       0.78829522, 0.78829522]), 'split3_train_score': array([0.67944671, 0.67931152, 0.67803787, 0.66990705, 0.66300938,\n",
      "       0.70905362, 0.77103525, 0.78435314, 0.7854485 , 0.78553839,\n",
      "       0.78554723, 0.78554845, 0.78554848, 0.78554847, 0.78554847,\n",
      "       0.78554847, 0.78554847]), 'split4_train_score': array([0.68284879, 0.68271586, 0.68144751, 0.67340659, 0.6660644 ,\n",
      "       0.70794254, 0.77176363, 0.78721549, 0.78876466, 0.78890842,\n",
      "       0.78892162, 0.78892306, 0.78892318, 0.78892319, 0.78892319,\n",
      "       0.78892319, 0.78892319]), 'mean_train_score': array([0.68183819, 0.68170229, 0.68041117, 0.67221084, 0.66503775,\n",
      "       0.70966192, 0.77231062, 0.78681138, 0.78820399, 0.78832928,\n",
      "       0.78834177, 0.78834292, 0.78834303, 0.78834304, 0.78834305,\n",
      "       0.78834304, 0.78834304]), 'std_train_score': array([0.0015692 , 0.00156822, 0.00155649, 0.0015267 , 0.00132748,\n",
      "       0.00123096, 0.001447  , 0.00232245, 0.00258131, 0.00261218,\n",
      "       0.00261501, 0.00261516, 0.00261518, 0.00261519, 0.00261519,\n",
      "       0.00261519, 0.00261519])}\n"
     ]
    }
   ],
   "source": [
    "# \n",
    "log_scores = log_grid.cv_results_\n",
    "\n",
    "print(log_scores)"
   ]
  },
  {
   "cell_type": "code",
   "execution_count": 46,
   "metadata": {},
   "outputs": [
    {
     "name": "stdout",
     "output_type": "stream",
     "text": [
      "0.788\n"
     ]
    }
   ],
   "source": [
    "# maximum ROC AUC value\n",
    "print(round(log_grid.best_score_, 3))"
   ]
  },
  {
   "cell_type": "markdown",
   "metadata": {},
   "source": [
    "# Logistic regression and RandomForest on sparse features"
   ]
  },
  {
   "cell_type": "markdown",
   "metadata": {},
   "source": [
    "In case of a small number of features, random forest was proved to be better than logistic regression. However, one of the main disadvantages of trees is how they work with sparse data, for example, with texts. Let's compare logistic regression and random forest in a new task.\n",
    "Download dataset with reviews of movies [here](http://d.pr/f/W0HpZh). "
   ]
  },
  {
   "cell_type": "code",
   "execution_count": 15,
   "metadata": {},
   "outputs": [
    {
     "data": {
      "text/plain": [
       "1    32492\n",
       "0    17508\n",
       "Name: label, dtype: int64"
      ]
     },
     "execution_count": 15,
     "metadata": {},
     "output_type": "execute_result"
    }
   ],
   "source": [
    "# Download data\n",
    "df = pd.read_csv(\"../../data/movie_reviews_train.csv.zip\", nrows=50000)\n",
    "\n",
    "# Split data to train and test\n",
    "X_text = df[\"text\"]\n",
    "y_text = df[\"label\"]\n",
    "\n",
    "# Classes counts\n",
    "df.label.value_counts()"
   ]
  },
  {
   "cell_type": "code",
   "execution_count": 16,
   "metadata": {},
   "outputs": [],
   "source": [
    "from sklearn.feature_extraction.text import CountVectorizer\n",
    "from sklearn.pipeline import Pipeline\n",
    "\n",
    "# Split on 3 folds\n",
    "skf = StratifiedKFold(n_splits=3, shuffle=True, random_state=17)\n",
    "\n",
    "# In Pipeline we will modify the text and train logistic regression\n",
    "classifier = Pipeline([\n",
    "    ('vectorizer', CountVectorizer(max_features=100000, ngram_range=(1, 3))),\n",
    "    ('clf', LogisticRegression(random_state=17))])"
   ]
  },
  {
   "cell_type": "markdown",
   "metadata": {},
   "source": [
    "**<font color='red'>Task 8.</font>** For Logistic Regression: iterate parameter `C` with values from the list [0.1, 1, 10, 100] and find the best ROC AUC in cross-validation. Select the closest answer.\n",
    "\n",
    "*For discussions, please stick to [ODS Slack](https://opendatascience.slack.com/), channel #mlcourse_ai, pinned thread __#a5_q8__*\n",
    "\n",
    "**<font color='red'>Answer options:</font>**\n",
    "- [ ] 0.74\n",
    "- [ ] 0.75\n",
    "- [ ] 0.84\n",
    "- [X] 0.85 ???"
   ]
  },
  {
   "cell_type": "code",
   "execution_count": 17,
   "metadata": {},
   "outputs": [],
   "source": [
    "# Your code is here\n",
    "logit_pipe_params = {'clf__C':  np.array([0.1, 1, 10, 100])}\n",
    "log_grid = GridSearchCV(classifier, param_grid=logit_pipe_params, cv=skf, scoring='roc_auc')   \n",
    "     "
   ]
  },
  {
   "cell_type": "code",
   "execution_count": 18,
   "metadata": {},
   "outputs": [
    {
     "data": {
      "text/plain": [
       "GridSearchCV(cv=StratifiedKFold(n_splits=3, random_state=17, shuffle=True),\n",
       "       error_score='raise',\n",
       "       estimator=Pipeline(memory=None,\n",
       "     steps=[('vectorizer', CountVectorizer(analyzer='word', binary=False, decode_error='strict',\n",
       "        dtype=<class 'numpy.int64'>, encoding='utf-8', input='content',\n",
       "        lowercase=True, max_df=1.0, max_features=100000, min_df=1,\n",
       "        ngram_range=(1, 3), preprocessor=None, stop_words=None,\n",
       "     ...alty='l2', random_state=17, solver='liblinear', tol=0.0001,\n",
       "          verbose=0, warm_start=False))]),\n",
       "       fit_params=None, iid=True, n_jobs=1,\n",
       "       param_grid={'clf__C': array([  0.1,   1. ,  10. , 100. ])},\n",
       "       pre_dispatch='2*n_jobs', refit=True, return_train_score='warn',\n",
       "       scoring='roc_auc', verbose=0)"
      ]
     },
     "execution_count": 18,
     "metadata": {},
     "output_type": "execute_result"
    }
   ],
   "source": [
    "                 \n",
    "log_grid.fit(X_text, y_text)"
   ]
  },
  {
   "cell_type": "code",
   "execution_count": 19,
   "metadata": {},
   "outputs": [
    {
     "name": "stdout",
     "output_type": "stream",
     "text": [
      "{'mean_fit_time': array([11.0127728 , 13.79374504, 14.09273513, 14.93638102]), 'std_fit_time': array([1.44771847, 1.37728917, 1.31311457, 0.56595389]), 'mean_score_time': array([1.62483891, 1.81784232, 1.67629282, 1.66097967]), 'std_score_time': array([0.06616696, 0.19938552, 0.10474059, 0.10226247]), 'param_clf__C': masked_array(data=[0.1, 1.0, 10.0, 100.0],\n",
      "             mask=[False, False, False, False],\n",
      "       fill_value='?',\n",
      "            dtype=object), 'params': [{'clf__C': 0.1}, {'clf__C': 1.0}, {'clf__C': 10.0}, {'clf__C': 100.0}], 'split0_test_score': array([0.85688601, 0.85954128, 0.85099214, 0.84378247]), 'split1_test_score': array([0.85760063, 0.86018857, 0.85095772, 0.84333417]), 'split2_test_score': array([0.85477763, 0.8563485 , 0.84767101, 0.84097456]), 'mean_test_score': array([0.85642146, 0.85869283, 0.84987367, 0.8426971 ]), 'std_test_score': array([0.00119838, 0.00167857, 0.00155753, 0.00123166]), 'rank_test_score': array([2, 1, 3, 4]), 'split0_train_score': array([0.97357698, 0.99957345, 0.99999425, 0.99999886]), 'split1_train_score': array([0.9737739 , 0.99959215, 0.99999376, 0.99999865]), 'split2_train_score': array([0.97405743, 0.99962488, 0.99999688, 0.99999876]), 'mean_train_score': array([0.97380277, 0.99959683, 0.99999496, 0.99999875]), 'std_train_score': array([1.97201615e-04, 2.12546629e-05, 1.37074493e-06, 8.39715715e-08])}\n"
     ]
    }
   ],
   "source": [
    "log_scores = log_grid.cv_results_\n",
    "\n",
    "print(log_scores)"
   ]
  },
  {
   "cell_type": "code",
   "execution_count": 20,
   "metadata": {},
   "outputs": [
    {
     "name": "stdout",
     "output_type": "stream",
     "text": [
      "0.859\n"
     ]
    }
   ],
   "source": [
    "# maximum ROC AUC value\n",
    "print(round(log_grid.best_score_, 3))"
   ]
  },
  {
   "cell_type": "markdown",
   "metadata": {},
   "source": [
    "**<font color='red'>Task 9.</font>** Now try to perform the same operation with random forest. Similarly, look over all the values and get the maximum ROC AUC. Select the closest value.\n",
    "\n",
    "*For discussions, please stick to [ODS Slack](https://opendatascience.slack.com/), channel #mlcourse_ai, pinned thread __#a5_q9__*\n",
    "\n",
    "**<font color='red'>Answer options:</font>**\n",
    "- [ ] 0.74\n",
    "- [X] 0.75 ???\n",
    "- [ ] 0.84\n",
    "- [ ] 0.85"
   ]
  },
  {
   "cell_type": "code",
   "execution_count": 67,
   "metadata": {},
   "outputs": [],
   "source": [
    "classifier = Pipeline([\n",
    "    ('vectorizer', CountVectorizer(max_features=100000, ngram_range=(1, 3))),\n",
    "    ('clf', RandomForestClassifier(random_state=17, n_jobs=-1))])\n",
    "\n",
    "min_samples_leaf = [1, 2, 3]\n",
    "max_features = [0.3, 0.5, 0.7]\n",
    "max_depth = [None]"
   ]
  },
  {
   "cell_type": "code",
   "execution_count": 70,
   "metadata": {},
   "outputs": [],
   "source": [
    "# Your code is here\n",
    "parameters = {'clf__max_features': max_features, \n",
    "              'clf__max_depth': max_depth,\n",
    "              'clf__min_samples_leaf': min_samples_leaf }\n",
    "clf_grid = GridSearchCV(classifier, param_grid=parameters, cv=skf, scoring='roc_auc')   \n",
    "     "
   ]
  },
  {
   "cell_type": "code",
   "execution_count": 71,
   "metadata": {},
   "outputs": [
    {
     "data": {
      "text/plain": [
       "GridSearchCV(cv=StratifiedKFold(n_splits=5, random_state=17, shuffle=True),\n",
       "       error_score='raise',\n",
       "       estimator=Pipeline(memory=None,\n",
       "     steps=[('vectorizer', CountVectorizer(analyzer='word', binary=False, decode_error='strict',\n",
       "        dtype=<class 'numpy.int64'>, encoding='utf-8', input='content',\n",
       "        lowercase=True, max_df=1.0, max_features=100000, min_df=1,\n",
       "        ngram_range=(1, 3), preprocessor=None, stop_words=None,\n",
       "     ...timators=10, n_jobs=-1,\n",
       "            oob_score=False, random_state=17, verbose=0, warm_start=False))]),\n",
       "       fit_params=None, iid=True, n_jobs=1,\n",
       "       param_grid={'clf__max_features': [0.3, 0.5, 0.7], 'clf__max_depth': [None], 'clf__min_samples_leaf': [1, 2, 3]},\n",
       "       pre_dispatch='2*n_jobs', refit=True, return_train_score='warn',\n",
       "       scoring='roc_auc', verbose=0)"
      ]
     },
     "execution_count": 71,
     "metadata": {},
     "output_type": "execute_result"
    }
   ],
   "source": [
    "clf_grid.fit(X_text, y_text)"
   ]
  },
  {
   "cell_type": "code",
   "execution_count": 72,
   "metadata": {},
   "outputs": [
    {
     "name": "stdout",
     "output_type": "stream",
     "text": [
      "{'mean_fit_time': array([161.18385305, 146.91986957, 128.90809031, 243.32923498,\n",
      "       209.12687531, 182.77649345, 291.04289746, 221.24469032,\n",
      "       209.92508869]), 'std_fit_time': array([ 7.79051978,  6.37300276,  4.02415973,  4.58718171,  3.41984981,\n",
      "        7.05054342, 20.34298345,  7.11158837,  8.04484966]), 'mean_score_time': array([1.1353632 , 1.1039    , 1.10781584, 1.09630094, 1.12439842,\n",
      "       1.12504048, 1.03270411, 0.92682672, 1.01902957]), 'std_score_time': array([0.09426862, 0.01995669, 0.02922244, 0.02399783, 0.06898086,\n",
      "       0.02963128, 0.11045554, 0.10260571, 0.10646798]), 'param_clf__max_depth': masked_array(data=[None, None, None, None, None, None, None, None, None],\n",
      "             mask=[False, False, False, False, False, False, False, False,\n",
      "                   False],\n",
      "       fill_value='?',\n",
      "            dtype=object), 'param_clf__max_features': masked_array(data=[0.3, 0.3, 0.3, 0.5, 0.5, 0.5, 0.7, 0.7, 0.7],\n",
      "             mask=[False, False, False, False, False, False, False, False,\n",
      "                   False],\n",
      "       fill_value='?',\n",
      "            dtype=object), 'param_clf__min_samples_leaf': masked_array(data=[1, 2, 3, 1, 2, 3, 1, 2, 3],\n",
      "             mask=[False, False, False, False, False, False, False, False,\n",
      "                   False],\n",
      "       fill_value='?',\n",
      "            dtype=object), 'params': [{'clf__max_depth': None, 'clf__max_features': 0.3, 'clf__min_samples_leaf': 1}, {'clf__max_depth': None, 'clf__max_features': 0.3, 'clf__min_samples_leaf': 2}, {'clf__max_depth': None, 'clf__max_features': 0.3, 'clf__min_samples_leaf': 3}, {'clf__max_depth': None, 'clf__max_features': 0.5, 'clf__min_samples_leaf': 1}, {'clf__max_depth': None, 'clf__max_features': 0.5, 'clf__min_samples_leaf': 2}, {'clf__max_depth': None, 'clf__max_features': 0.5, 'clf__min_samples_leaf': 3}, {'clf__max_depth': None, 'clf__max_features': 0.7, 'clf__min_samples_leaf': 1}, {'clf__max_depth': None, 'clf__max_features': 0.7, 'clf__min_samples_leaf': 2}, {'clf__max_depth': None, 'clf__max_features': 0.7, 'clf__min_samples_leaf': 3}], 'split0_test_score': array([0.74755568, 0.75132204, 0.74937428, 0.74685388, 0.74832958,\n",
      "       0.74600064, 0.75233076, 0.75119517, 0.74906632]), 'split1_test_score': array([0.75750704, 0.75769545, 0.75982003, 0.75544322, 0.75508293,\n",
      "       0.75497144, 0.75095925, 0.75390261, 0.754792  ]), 'split2_test_score': array([0.75429454, 0.7530818 , 0.75335134, 0.75685171, 0.75850767,\n",
      "       0.75118731, 0.75346346, 0.74861028, 0.74985929]), 'split3_test_score': array([0.74467487, 0.74922324, 0.74980072, 0.74634425, 0.74693479,\n",
      "       0.74491044, 0.75086927, 0.74568659, 0.74473404]), 'split4_test_score': array([0.75757353, 0.758     , 0.75376158, 0.76273529, 0.75632671,\n",
      "       0.75300989, 0.75843731, 0.75756094, 0.7524906 ]), 'mean_test_score': array([0.75232119, 0.75386454, 0.7532217 , 0.75364554, 0.75303634,\n",
      "       0.750016  , 0.75321189, 0.75139115, 0.75018858]), 'std_test_score': array([0.00528293, 0.00347548, 0.00375118, 0.00625398, 0.00456795,\n",
      "       0.00392638, 0.00278224, 0.00411536, 0.00339439]), 'rank_test_score': array([6, 1, 3, 2, 5, 9, 4, 7, 8]), 'split0_train_score': array([0.99888016, 0.98599024, 0.96216427, 0.99890506, 0.9877237 ,\n",
      "       0.96450461, 0.9988606 , 0.9891476 , 0.96733746]), 'split1_train_score': array([0.99880138, 0.98642116, 0.96143622, 0.99877973, 0.98820642,\n",
      "       0.96522804, 0.99869551, 0.98910842, 0.96705289]), 'split2_train_score': array([0.99878871, 0.98613348, 0.96032173, 0.99869111, 0.98788999,\n",
      "       0.96378664, 0.99872602, 0.98872149, 0.96648934]), 'split3_train_score': array([0.99868812, 0.98572748, 0.96017359, 0.99868457, 0.98748942,\n",
      "       0.96351569, 0.99867326, 0.98814148, 0.9656104 ]), 'split4_train_score': array([0.99877797, 0.98664076, 0.96205485, 0.99877885, 0.98769884,\n",
      "       0.96387389, 0.99872302, 0.98870899, 0.96611573]), 'mean_train_score': array([0.99878727, 0.98618262, 0.96123013, 0.99876787, 0.98780167,\n",
      "       0.96418177, 0.99873568, 0.98876559, 0.96652116]), 'std_train_score': array([6.12344919e-05, 3.20427740e-04, 8.41038467e-04, 7.98917224e-05,\n",
      "       2.39070827e-04, 6.15386047e-04, 6.53753815e-05, 3.62803534e-04,\n",
      "       6.23530990e-04])}\n"
     ]
    }
   ],
   "source": [
    "clf_scores = clf_grid.cv_results_\n",
    "\n",
    "print(clf_scores)"
   ]
  },
  {
   "cell_type": "code",
   "execution_count": 73,
   "metadata": {},
   "outputs": [
    {
     "name": "stdout",
     "output_type": "stream",
     "text": [
      "0.754\n"
     ]
    }
   ],
   "source": [
    "# maximum ROC AUC value\n",
    "print(round(clf_grid.best_score_, 3))"
   ]
  },
  {
   "cell_type": "markdown",
   "metadata": {},
   "source": [
    "### Additional References:\n",
    "\n",
    "* [Voting classifier based on Condorset Jury Theorem]( \n",
    "https://github.com/scikit-learn/scikit-learn/blob/master/sklearn/ensemble/voting_classifier.py)\n",
    "* [Understanding random forests from theory to practice](\n",
    "https://www.slideshare.net/glouppe/understanding-random-forests-from-theory-to-practice)\n",
    "* https://arxiv.org/pdf/1407.7502.pdf"
   ]
  }
 ],
 "metadata": {
  "kernelspec": {
   "display_name": "Python 3",
   "language": "python",
   "name": "python3"
  },
  "language_info": {
   "codemirror_mode": {
    "name": "ipython",
    "version": 3
   },
   "file_extension": ".py",
   "mimetype": "text/x-python",
   "name": "python",
   "nbconvert_exporter": "python",
   "pygments_lexer": "ipython3",
   "version": "3.6.5"
  }
 },
 "nbformat": 4,
 "nbformat_minor": 2
}
